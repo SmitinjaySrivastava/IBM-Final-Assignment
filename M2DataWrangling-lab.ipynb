{
  "metadata": {
    "kernelspec": {
      "name": "python",
      "display_name": "Python (Pyodide)",
      "language": "python"
    },
    "language_info": {
      "codemirror_mode": {
        "name": "python",
        "version": 3
      },
      "file_extension": ".py",
      "mimetype": "text/x-python",
      "name": "python",
      "nbconvert_exporter": "python",
      "pygments_lexer": "ipython3",
      "version": "3.8"
    },
    "prev_pub_hash": "fee3cd0da99af27f7f7a8d9c340e8e78f253ffc32a2251cadcb6968f21d952d5"
  },
  "nbformat_minor": 4,
  "nbformat": 4,
  "cells": [
    {
      "cell_type": "markdown",
      "source": "<p style=\"text-align:center\">\n    <a href=\"https://skills.network/?utm_medium=Exinfluencer&utm_source=Exinfluencer&utm_content=000026UJ&utm_term=10006555&utm_id=NA-SkillsNetwork-Channel-SkillsNetworkCoursesIBMDA0321ENSkillsNetwork928-2022-01-01\" target=\"_blank\">\n    <img src=\"https://cf-courses-data.s3.us.cloud-object-storage.appdomain.cloud/assets/logos/SN_web_lightmode.png\" width=\"400\" alt=\"Skills Network Logo\"  />\n    </a>\n</p>\n",
      "metadata": {}
    },
    {
      "cell_type": "markdown",
      "source": "# **Data Wrangling Lab**\n",
      "metadata": {}
    },
    {
      "cell_type": "markdown",
      "source": "Estimated time needed: **45 to 60** minutes\n",
      "metadata": {}
    },
    {
      "cell_type": "markdown",
      "source": "In this assignment you will be performing data wrangling.\n",
      "metadata": {}
    },
    {
      "cell_type": "markdown",
      "source": "## Objectives\n",
      "metadata": {}
    },
    {
      "cell_type": "markdown",
      "source": "In this lab you will perform the following:\n",
      "metadata": {}
    },
    {
      "cell_type": "markdown",
      "source": "-   Identify duplicate values in the dataset.\n\n-   Remove duplicate values from the dataset.\n\n-   Identify missing values in the dataset.\n\n-   Impute the missing values in the dataset.\n\n-   Normalize data in the dataset.\n",
      "metadata": {}
    },
    {
      "cell_type": "markdown",
      "source": "<hr>\n",
      "metadata": {}
    },
    {
      "cell_type": "markdown",
      "source": "## Hands on Lab\n",
      "metadata": {}
    },
    {
      "cell_type": "markdown",
      "source": "Import pandas module.\n",
      "metadata": {}
    },
    {
      "cell_type": "code",
      "source": "import pandas as pd",
      "metadata": {
        "trusted": true
      },
      "outputs": [
        {
          "name": "stderr",
          "text": "<ipython-input-1-7dd3504c366f>:1: DeprecationWarning: \nPyarrow will become a required dependency of pandas in the next major release of pandas (pandas 3.0),\n(to allow more performant data types, such as the Arrow string type, and better interoperability with other libraries)\nbut was not found to be installed on your system.\nIf this would cause problems for you,\nplease provide us feedback at https://github.com/pandas-dev/pandas/issues/54466\n        \n  import pandas as pd\n",
          "output_type": "stream"
        }
      ],
      "execution_count": 1
    },
    {
      "cell_type": "markdown",
      "source": "Load the dataset into a dataframe.\n",
      "metadata": {}
    },
    {
      "cell_type": "markdown",
      "source": "<h2>Read Data</h2>\n<p>\nWe utilize the <code>pandas.read_csv()</code> function for reading CSV files. However, in this version of the lab, which operates on JupyterLite, the dataset needs to be downloaded to the interface using the provided code below.\n</p>\n",
      "metadata": {}
    },
    {
      "cell_type": "markdown",
      "source": "The functions below will download the dataset into your browser:\n",
      "metadata": {}
    },
    {
      "cell_type": "code",
      "source": "from pyodide.http import pyfetch\n\nasync def download(url, filename):\n    response = await pyfetch(url)\n    if response.status == 200:\n        with open(filename, \"wb\") as f:\n            f.write(await response.bytes())",
      "metadata": {
        "trusted": true
      },
      "outputs": [],
      "execution_count": 2
    },
    {
      "cell_type": "code",
      "source": "file_path = \"https://cf-courses-data.s3.us.cloud-object-storage.appdomain.cloud/IBM-DA0321EN-SkillsNetwork/LargeData/m1_survey_data.csv\"",
      "metadata": {
        "trusted": true
      },
      "outputs": [],
      "execution_count": 3
    },
    {
      "cell_type": "markdown",
      "source": "To obtain the dataset, utilize the download() function as defined above:  \n",
      "metadata": {}
    },
    {
      "cell_type": "code",
      "source": "await download(file_path, \"m1_survey_data.csv\")\nfile_name=\"m1_survey_data.csv\"",
      "metadata": {
        "trusted": true
      },
      "outputs": [],
      "execution_count": 4
    },
    {
      "cell_type": "markdown",
      "source": "Utilize the Pandas method read_csv() to load the data into a dataframe.\n",
      "metadata": {}
    },
    {
      "cell_type": "code",
      "source": "df = pd.read_csv(file_name)",
      "metadata": {
        "trusted": true
      },
      "outputs": [],
      "execution_count": 5
    },
    {
      "cell_type": "markdown",
      "source": "> Note: This version of the lab is working on JupyterLite, which requires the dataset to be downloaded to the interface.While working on the downloaded version of this notebook on their local machines(Jupyter Anaconda), the learners can simply **skip the steps above,** and simply use the URL directly in the `pandas.read_csv()` function. You can uncomment and run the statements in the cell below.\n",
      "metadata": {}
    },
    {
      "cell_type": "code",
      "source": "#df = pd.read_csv(\"https://cf-courses-data.s3.us.cloud-object-storage.appdomain.cloud/IBM-DA0321EN-SkillsNetwork/LargeData/m1_survey_data.csv\")",
      "metadata": {},
      "outputs": [],
      "execution_count": null
    },
    {
      "cell_type": "markdown",
      "source": "## Finding duplicates\n",
      "metadata": {}
    },
    {
      "cell_type": "markdown",
      "source": "In this section you will identify duplicate values in the dataset.\n",
      "metadata": {}
    },
    {
      "cell_type": "markdown",
      "source": " Find how many duplicate rows exist in the dataframe.\n",
      "metadata": {}
    },
    {
      "cell_type": "code",
      "source": "duplicates = df[df.duplicated()]\nprint(\"Duplicate rows:\")\nprint(duplicates)",
      "metadata": {
        "trusted": true
      },
      "outputs": [
        {
          "name": "stdout",
          "text": "Duplicate rows:\n      Respondent                                         MainBranch Hobbyist  \\\n1168        2339                     I am a developer by profession      Yes   \n1169        2342                     I am a developer by profession      Yes   \n1170        2343                     I am a developer by profession      Yes   \n1171        2344                     I am a developer by profession      Yes   \n1172        2347                     I am a developer by profession      Yes   \n...          ...                                                ...      ...   \n2297        4674  I am not primarily a developer, but I write co...      Yes   \n2298        4675                     I am a developer by profession      Yes   \n2299        4676                     I am a developer by profession      Yes   \n2300        4677                     I am a developer by profession      Yes   \n2301        4679                     I am a developer by profession      Yes   \n\n                                            OpenSourcer  \\\n1168                         Once a month or more often   \n1169                                              Never   \n1170  Less than once a month but more than once per ...   \n1171                                              Never   \n1172                                              Never   \n...                                                 ...   \n2297                            Less than once per year   \n2298                                              Never   \n2299                                              Never   \n2300                         Once a month or more often   \n2301  Less than once a month but more than once per ...   \n\n                                             OpenSource          Employment  \\\n1168  OSS is, on average, of HIGHER quality than pro...  Employed full-time   \n1169  The quality of OSS and closed source software ...  Employed full-time   \n1170  OSS is, on average, of LOWER quality than prop...  Employed full-time   \n1171  The quality of OSS and closed source software ...  Employed full-time   \n1172  OSS is, on average, of HIGHER quality than pro...  Employed full-time   \n...                                                 ...                 ...   \n2297  The quality of OSS and closed source software ...  Employed full-time   \n2298  OSS is, on average, of HIGHER quality than pro...  Employed full-time   \n2299  OSS is, on average, of HIGHER quality than pro...  Employed full-time   \n2300  OSS is, on average, of HIGHER quality than pro...  Employed full-time   \n2301  The quality of OSS and closed source software ...  Employed full-time   \n\n             Country Student  \\\n1168   United States      No   \n1169  United Kingdom      No   \n1170          Canada      No   \n1171   United States      No   \n1172  United Kingdom      No   \n...              ...     ...   \n2297      Bangladesh      No   \n2298   United States      No   \n2299         Finland      No   \n2300  United Kingdom      No   \n2301   United States      No   \n\n                                                EdLevel  \\\n1168  Some college/university study without earning ...   \n1169  Some college/university study without earning ...   \n1170        Master’s degree (MA, MS, M.Eng., MBA, etc.)   \n1171           Bachelor’s degree (BA, BS, B.Eng., etc.)   \n1172        Master’s degree (MA, MS, M.Eng., MBA, etc.)   \n...                                                 ...   \n2297           Bachelor’s degree (BA, BS, B.Eng., etc.)   \n2298           Bachelor’s degree (BA, BS, B.Eng., etc.)   \n2299        Master’s degree (MA, MS, M.Eng., MBA, etc.)   \n2300           Bachelor’s degree (BA, BS, B.Eng., etc.)   \n2301        Master’s degree (MA, MS, M.Eng., MBA, etc.)   \n\n                                         UndergradMajor  ...  \\\n1168  Computer science, computer engineering, or sof...  ...   \n1169  Information systems, information technology, o...  ...   \n1170  Computer science, computer engineering, or sof...  ...   \n1171  Computer science, computer engineering, or sof...  ...   \n1172  Computer science, computer engineering, or sof...  ...   \n...                                                 ...  ...   \n2297                                                NaN  ...   \n2298  Information systems, information technology, o...  ...   \n2299  Another engineering discipline (ex. civil, ele...  ...   \n2300  A natural science (ex. biology, chemistry, phy...  ...   \n2301  Computer science, computer engineering, or sof...  ...   \n\n                                 WelcomeChange  \\\n1168   Just as welcome now as I felt last year   \n1169  Somewhat more welcome now than last year   \n1170  Somewhat more welcome now than last year   \n1171   Just as welcome now as I felt last year   \n1172   Just as welcome now as I felt last year   \n...                                        ...   \n2297  Somewhat less welcome now than last year   \n2298   Just as welcome now as I felt last year   \n2299  Somewhat less welcome now than last year   \n2300   Just as welcome now as I felt last year   \n2301   Just as welcome now as I felt last year   \n\n                                           SONewContent   Age Gender Trans  \\\n1168                                                NaN  24.0    Man    No   \n1169  Tech meetups or events in your area;Courses on...  24.0    Man    No   \n1170  Tech articles written by other developers;Indu...  27.0    Man    No   \n1171  Tech articles written by other developers;Indu...  24.0    Man    No   \n1172                                                NaN   NaN  Woman    No   \n...                                                 ...   ...    ...   ...   \n2297  Tech articles written by other developers;Indu...  31.0    Man    No   \n2298                Tech meetups or events in your area  27.0    Man    No   \n2299                                                NaN  36.0    Man    No   \n2300                                                NaN  40.0    Man    No   \n2301                                                NaN  27.0    Man    No   \n\n                                            Sexuality  \\\n1168                          Straight / Heterosexual   \n1169                          Straight / Heterosexual   \n1170                          Straight / Heterosexual   \n1171                          Straight / Heterosexual   \n1172                          Straight / Heterosexual   \n...                                               ...   \n2297  Bisexual;Gay or Lesbian;Straight / Heterosexual   \n2298                          Straight / Heterosexual   \n2299                          Straight / Heterosexual   \n2300                          Straight / Heterosexual   \n2301                                              NaN   \n\n                                              Ethnicity Dependents  \\\n1168                       White or of European descent         No   \n1169                       White or of European descent         No   \n1170  Black or of African descent;White or of Europe...         No   \n1171                       White or of European descent         No   \n1172                                           Biracial         No   \n...                                                 ...        ...   \n2297  Black or of African descent;Hispanic or Latino...        Yes   \n2298                       White or of European descent         No   \n2299                       White or of European descent        Yes   \n2300                       White or of European descent        Yes   \n2301                       White or of European descent         No   \n\n               SurveyLength                  SurveyEase  \n1168  Appropriate in length                        Easy  \n1169               Too long                        Easy  \n1170  Appropriate in length  Neither easy nor difficult  \n1171  Appropriate in length                        Easy  \n1172               Too long                        Easy  \n...                     ...                         ...  \n2297               Too long  Neither easy nor difficult  \n2298  Appropriate in length                        Easy  \n2299               Too long                        Easy  \n2300  Appropriate in length                        Easy  \n2301  Appropriate in length                        Easy  \n\n[154 rows x 85 columns]\n",
          "output_type": "stream"
        }
      ],
      "execution_count": 8
    },
    {
      "cell_type": "markdown",
      "source": "## Removing duplicates\n",
      "metadata": {}
    },
    {
      "cell_type": "markdown",
      "source": "Remove the duplicate rows from the dataframe.\n",
      "metadata": {}
    },
    {
      "cell_type": "code",
      "source": "df_no_duplicates = df.drop_duplicates()",
      "metadata": {
        "trusted": true
      },
      "outputs": [],
      "execution_count": 22
    },
    {
      "cell_type": "markdown",
      "source": "Verify if duplicates were actually dropped.\n",
      "metadata": {}
    },
    {
      "cell_type": "code",
      "source": "print(f\"Number of rows before removing duplicates: {len(df)}\")",
      "metadata": {
        "trusted": true
      },
      "outputs": [
        {
          "name": "stdout",
          "text": "Number of rows before removing duplicates: 11552\n",
          "output_type": "stream"
        }
      ],
      "execution_count": 23
    },
    {
      "cell_type": "code",
      "source": "print(f\"Number of rows after removing duplicates: {len(df_no_duplicates)}\")",
      "metadata": {
        "trusted": true
      },
      "outputs": [
        {
          "name": "stdout",
          "text": "Number of rows after removing duplicates: 11398\n",
          "output_type": "stream"
        }
      ],
      "execution_count": 24
    },
    {
      "cell_type": "markdown",
      "source": "## Finding Missing values\n",
      "metadata": {}
    },
    {
      "cell_type": "markdown",
      "source": "Find the missing values for all columns.\n",
      "metadata": {}
    },
    {
      "cell_type": "code",
      "source": "missing_values = df.isnull().sum()\nprint(\"Missing values per column:\")\nprint(missing_values)",
      "metadata": {
        "trusted": true
      },
      "outputs": [
        {
          "name": "stdout",
          "text": "Missing values per column:\nRespondent                        0\nMainBranch                        0\nHobbyist                          0\nOpenSourcer                       0\nOpenSource                       81\n                               ... \nEthnicity                       683\nDependents                      144\nSurveyLength                     19\nSurveyEase                       14\nNormalizedAnnualCompensation    821\nLength: 86, dtype: int64\n",
          "output_type": "stream"
        }
      ],
      "execution_count": 20
    },
    {
      "cell_type": "markdown",
      "source": "Find out how many rows are missing in the column 'WorkLoc'\n",
      "metadata": {}
    },
    {
      "cell_type": "code",
      "source": "missing_rows = df[df['WorkLoc'].isnull()]\nprint(f\"Rows with missing values in 'WorkLoc':\")\nprint(missing_rows)",
      "metadata": {
        "trusted": true
      },
      "outputs": [
        {
          "name": "stdout",
          "text": "Rows with missing values in 'WorkLoc':\n       Respondent                                         MainBranch Hobbyist  \\\n130           285                     I am a developer by profession      Yes   \n242           550                     I am a developer by profession      Yes   \n866          1847                     I am a developer by profession      Yes   \n1455         2826                     I am a developer by profession      Yes   \n1753         3536                     I am a developer by profession      Yes   \n2339         4768                     I am a developer by profession      Yes   \n2689         5562                     I am a developer by profession       No   \n2788         5769                     I am a developer by profession      Yes   \n3165         6613                     I am a developer by profession       No   \n3213         6721                     I am a developer by profession       No   \n3690         7799  I am not primarily a developer, but I write co...      Yes   \n3996         8456                     I am a developer by profession      Yes   \n4944        10508                     I am a developer by profession       No   \n5654        12043                     I am a developer by profession      Yes   \n5671        12087                     I am a developer by profession       No   \n5824        12434                     I am a developer by profession       No   \n6321        13491                     I am a developer by profession      Yes   \n7361        15765  I am not primarily a developer, but I write co...      Yes   \n7557        16228                     I am a developer by profession       No   \n7714        16572                     I am a developer by profession      Yes   \n7779        16738                     I am a developer by profession      Yes   \n8010        17226                     I am a developer by profession      Yes   \n8188        17634                     I am a developer by profession      Yes   \n8855        19118                     I am a developer by profession      Yes   \n9066        19578                     I am a developer by profession       No   \n9070        19586                     I am a developer by profession      Yes   \n10219       22033                     I am a developer by profession       No   \n10709       23189                     I am a developer by profession      Yes   \n10951       23724                     I am a developer by profession      Yes   \n11253       24435                     I am a developer by profession       No   \n11331       24620                     I am a developer by profession      Yes   \n11521       25082                     I am a developer by profession      Yes   \n\n                                             OpenSourcer  \\\n130                                                Never   \n242                              Less than once per year   \n866                                                Never   \n1455   Less than once a month but more than once per ...   \n1753                          Once a month or more often   \n2339   Less than once a month but more than once per ...   \n2689                                               Never   \n2788   Less than once a month but more than once per ...   \n3165                             Less than once per year   \n3213   Less than once a month but more than once per ...   \n3690                                               Never   \n3996   Less than once a month but more than once per ...   \n4944                             Less than once per year   \n5654                                               Never   \n5671                                               Never   \n5824   Less than once a month but more than once per ...   \n6321   Less than once a month but more than once per ...   \n7361   Less than once a month but more than once per ...   \n7557                                               Never   \n7714   Less than once a month but more than once per ...   \n7779                          Once a month or more often   \n8010                                               Never   \n8188                                               Never   \n8855                             Less than once per year   \n9066                          Once a month or more often   \n9070                             Less than once per year   \n10219                                              Never   \n10709                            Less than once per year   \n10951  Less than once a month but more than once per ...   \n11253                            Less than once per year   \n11331                                              Never   \n11521                            Less than once per year   \n\n                                              OpenSource          Employment  \\\n130    The quality of OSS and closed source software ...  Employed full-time   \n242    The quality of OSS and closed source software ...  Employed full-time   \n866    The quality of OSS and closed source software ...  Employed full-time   \n1455   OSS is, on average, of HIGHER quality than pro...  Employed full-time   \n1753   OSS is, on average, of HIGHER quality than pro...  Employed full-time   \n2339   OSS is, on average, of HIGHER quality than pro...  Employed full-time   \n2689   The quality of OSS and closed source software ...  Employed full-time   \n2788                                                 NaN  Employed full-time   \n3165   OSS is, on average, of HIGHER quality than pro...  Employed full-time   \n3213                                                 NaN  Employed full-time   \n3690   OSS is, on average, of HIGHER quality than pro...  Employed full-time   \n3996   OSS is, on average, of HIGHER quality than pro...  Employed full-time   \n4944   The quality of OSS and closed source software ...  Employed full-time   \n5654   The quality of OSS and closed source software ...  Employed full-time   \n5671   The quality of OSS and closed source software ...  Employed full-time   \n5824   The quality of OSS and closed source software ...  Employed full-time   \n6321   OSS is, on average, of LOWER quality than prop...  Employed full-time   \n7361   The quality of OSS and closed source software ...  Employed full-time   \n7557   The quality of OSS and closed source software ...  Employed full-time   \n7714   OSS is, on average, of HIGHER quality than pro...  Employed full-time   \n7779   OSS is, on average, of HIGHER quality than pro...  Employed full-time   \n8010   OSS is, on average, of HIGHER quality than pro...  Employed full-time   \n8188   OSS is, on average, of HIGHER quality than pro...  Employed full-time   \n8855   OSS is, on average, of HIGHER quality than pro...  Employed full-time   \n9066   OSS is, on average, of HIGHER quality than pro...  Employed full-time   \n9070   OSS is, on average, of HIGHER quality than pro...  Employed full-time   \n10219  OSS is, on average, of HIGHER quality than pro...  Employed full-time   \n10709  The quality of OSS and closed source software ...  Employed full-time   \n10951  OSS is, on average, of HIGHER quality than pro...  Employed full-time   \n11253  The quality of OSS and closed source software ...  Employed full-time   \n11331  The quality of OSS and closed source software ...  Employed full-time   \n11521  OSS is, on average, of HIGHER quality than pro...  Employed full-time   \n\n              Country         Student  \\\n130    United Kingdom              No   \n242            Canada              No   \n866     United States              No   \n1455      Switzerland  Yes, part-time   \n1753          Austria  Yes, part-time   \n2339    United States              No   \n2689            India              No   \n2788      Switzerland              No   \n3165    United States              No   \n3213          Germany              No   \n3690    United States              No   \n3996           France              No   \n4944          Estonia              No   \n5654       Bangladesh              No   \n5671           Mexico              No   \n5824            Italy              No   \n6321            India              No   \n7361          Austria              No   \n7557         Slovenia              No   \n7714   United Kingdom              No   \n7779    United States              No   \n8010          Germany              No   \n8188            India              No   \n8855           Brazil              No   \n9066    United States              No   \n9070          Germany              No   \n10219           India              No   \n10709         Germany              No   \n10951   United States              No   \n11253           India              No   \n11331         Germany              No   \n11521         Germany              No   \n\n                                                 EdLevel  \\\n130             Bachelor’s degree (BA, BS, B.Eng., etc.)   \n242             Bachelor’s degree (BA, BS, B.Eng., etc.)   \n866             Bachelor’s degree (BA, BS, B.Eng., etc.)   \n1455            Bachelor’s degree (BA, BS, B.Eng., etc.)   \n1753            Bachelor’s degree (BA, BS, B.Eng., etc.)   \n2339            Bachelor’s degree (BA, BS, B.Eng., etc.)   \n2689         Master’s degree (MA, MS, M.Eng., MBA, etc.)   \n2788         Master’s degree (MA, MS, M.Eng., MBA, etc.)   \n3165            Bachelor’s degree (BA, BS, B.Eng., etc.)   \n3213            Bachelor’s degree (BA, BS, B.Eng., etc.)   \n3690   Some college/university study without earning ...   \n3996            Bachelor’s degree (BA, BS, B.Eng., etc.)   \n4944         Master’s degree (MA, MS, M.Eng., MBA, etc.)   \n5654            Bachelor’s degree (BA, BS, B.Eng., etc.)   \n5671            Bachelor’s degree (BA, BS, B.Eng., etc.)   \n5824         Master’s degree (MA, MS, M.Eng., MBA, etc.)   \n6321            Bachelor’s degree (BA, BS, B.Eng., etc.)   \n7361           Other doctoral degree (Ph.D, Ed.D., etc.)   \n7557            Bachelor’s degree (BA, BS, B.Eng., etc.)   \n7714            Bachelor’s degree (BA, BS, B.Eng., etc.)   \n7779         Master’s degree (MA, MS, M.Eng., MBA, etc.)   \n8010                                    Associate degree   \n8188            Bachelor’s degree (BA, BS, B.Eng., etc.)   \n8855            Bachelor’s degree (BA, BS, B.Eng., etc.)   \n9066            Bachelor’s degree (BA, BS, B.Eng., etc.)   \n9070            Bachelor’s degree (BA, BS, B.Eng., etc.)   \n10219           Bachelor’s degree (BA, BS, B.Eng., etc.)   \n10709        Master’s degree (MA, MS, M.Eng., MBA, etc.)   \n10951  Some college/university study without earning ...   \n11253  Some college/university study without earning ...   \n11331  Secondary school (e.g. American high school, G...   \n11521           Bachelor’s degree (BA, BS, B.Eng., etc.)   \n\n                                          UndergradMajor  ...  \\\n130    Computer science, computer engineering, or sof...  ...   \n242    Computer science, computer engineering, or sof...  ...   \n866    A humanities discipline (ex. literature, histo...  ...   \n1455   Information systems, information technology, o...  ...   \n1753   Computer science, computer engineering, or sof...  ...   \n2339   Computer science, computer engineering, or sof...  ...   \n2689                                                 NaN  ...   \n2788   A natural science (ex. biology, chemistry, phy...  ...   \n3165   Fine arts or performing arts (ex. graphic desi...  ...   \n3213   Computer science, computer engineering, or sof...  ...   \n3690   Information systems, information technology, o...  ...   \n3996   Computer science, computer engineering, or sof...  ...   \n4944   Another engineering discipline (ex. civil, ele...  ...   \n5654   Computer science, computer engineering, or sof...  ...   \n5671   Computer science, computer engineering, or sof...  ...   \n5824                           Mathematics or statistics  ...   \n6321   Computer science, computer engineering, or sof...  ...   \n7361   A natural science (ex. biology, chemistry, phy...  ...   \n7557                       Web development or web design  ...   \n7714   Computer science, computer engineering, or sof...  ...   \n7779   Computer science, computer engineering, or sof...  ...   \n8010   Computer science, computer engineering, or sof...  ...   \n8188   Computer science, computer engineering, or sof...  ...   \n8855   Computer science, computer engineering, or sof...  ...   \n9066   Computer science, computer engineering, or sof...  ...   \n9070   Computer science, computer engineering, or sof...  ...   \n10219  Computer science, computer engineering, or sof...  ...   \n10709  Another engineering discipline (ex. civil, ele...  ...   \n10951  A humanities discipline (ex. literature, histo...  ...   \n11253  Another engineering discipline (ex. civil, ele...  ...   \n11331                                                NaN  ...   \n11521  Computer science, computer engineering, or sof...  ...   \n\n                                  WelcomeChange  \\\n130     Just as welcome now as I felt last year   \n242     Just as welcome now as I felt last year   \n866     Just as welcome now as I felt last year   \n1455   Somewhat less welcome now than last year   \n1753    Just as welcome now as I felt last year   \n2339    Just as welcome now as I felt last year   \n2689    Just as welcome now as I felt last year   \n2788    Just as welcome now as I felt last year   \n3165    Just as welcome now as I felt last year   \n3213    Just as welcome now as I felt last year   \n3690    Just as welcome now as I felt last year   \n3996    Just as welcome now as I felt last year   \n4944    Just as welcome now as I felt last year   \n5654    Just as welcome now as I felt last year   \n5671    Just as welcome now as I felt last year   \n5824    Just as welcome now as I felt last year   \n6321   Somewhat more welcome now than last year   \n7361    Just as welcome now as I felt last year   \n7557    Just as welcome now as I felt last year   \n7714    Just as welcome now as I felt last year   \n7779    Just as welcome now as I felt last year   \n8010                                        NaN   \n8188   Somewhat more welcome now than last year   \n8855      A lot more welcome now than last year   \n9066    Just as welcome now as I felt last year   \n9070    Just as welcome now as I felt last year   \n10219   Just as welcome now as I felt last year   \n10709   Just as welcome now as I felt last year   \n10951   Just as welcome now as I felt last year   \n11253   Just as welcome now as I felt last year   \n11331   Just as welcome now as I felt last year   \n11521   Just as welcome now as I felt last year   \n\n                                            SONewContent   Age Gender Trans  \\\n130    Tech articles written by other developers;Indu...  32.0    Man    No   \n242    Tech meetups or events in your area;Courses on...  37.0    Man    No   \n866    Industry news about technologies you're intere...  28.0    Man    No   \n1455                 Tech meetups or events in your area  29.0    Man    No   \n1753                 Tech meetups or events in your area  35.0    Man    No   \n2339                                                 NaN  24.0    Man    No   \n2689   Tech articles written by other developers;Tech...  28.0  Woman    No   \n2788   Tech meetups or events in your area;Courses on...  26.0    Man    No   \n3165   Tech articles written by other developers;Indu...  36.0    Man    No   \n3213           Tech articles written by other developers  34.0    Man    No   \n3690   Tech articles written by other developers;Indu...  54.0    Man    No   \n3996   Tech articles written by other developers;Indu...  26.0    Man    No   \n4944        Courses on technologies you're interested in  56.0    Man    No   \n5654           Tech articles written by other developers  23.0    Man    No   \n5671                                                 NaN  33.0    Man    No   \n5824   Industry news about technologies you're intere...  29.0  Woman    No   \n6321   Tech articles written by other developers;Indu...  25.0    Man    No   \n7361   Tech articles written by other developers;Indu...  36.0    Man    No   \n7557        Courses on technologies you're interested in  31.0    Man    No   \n7714   Tech articles written by other developers;Indu...  50.0    Man    No   \n7779                                                 NaN  36.0    Man    No   \n8010                                                 NaN  39.0    Man    No   \n8188   Tech articles written by other developers;Indu...  25.0    Man    No   \n8855   Tech articles written by other developers;Indu...  22.0    Man    No   \n9066   Tech articles written by other developers;Tech...  35.0    Man    No   \n9070   Tech articles written by other developers;Indu...  22.0    Man    No   \n10219  Tech articles written by other developers;Indu...  24.0  Woman    No   \n10709                                                NaN  44.0    Man    No   \n10951  Tech articles written by other developers;Indu...  35.0    Man    No   \n11253  Tech articles written by other developers;Tech...  22.0    Man    No   \n11331  Tech articles written by other developers;Indu...  38.0    Man    No   \n11521  Tech articles written by other developers;Indu...  35.0    Man    No   \n\n                     Sexuality  \\\n130    Straight / Heterosexual   \n242    Straight / Heterosexual   \n866    Straight / Heterosexual   \n1455   Straight / Heterosexual   \n1753                       NaN   \n2339   Straight / Heterosexual   \n2689   Straight / Heterosexual   \n2788   Straight / Heterosexual   \n3165   Straight / Heterosexual   \n3213   Straight / Heterosexual   \n3690   Straight / Heterosexual   \n3996   Straight / Heterosexual   \n4944   Straight / Heterosexual   \n5654   Straight / Heterosexual   \n5671   Straight / Heterosexual   \n5824   Straight / Heterosexual   \n6321   Straight / Heterosexual   \n7361   Straight / Heterosexual   \n7557   Straight / Heterosexual   \n7714   Straight / Heterosexual   \n7779   Straight / Heterosexual   \n8010   Straight / Heterosexual   \n8188   Straight / Heterosexual   \n8855   Straight / Heterosexual   \n9066                  Bisexual   \n9070   Straight / Heterosexual   \n10219  Straight / Heterosexual   \n10709  Straight / Heterosexual   \n10951  Straight / Heterosexual   \n11253  Straight / Heterosexual   \n11331  Straight / Heterosexual   \n11521  Straight / Heterosexual   \n\n                                               Ethnicity Dependents  \\\n130                         White or of European descent         No   \n242                         White or of European descent        Yes   \n866                                                  NaN         No   \n1455                        White or of European descent         No   \n1753                        White or of European descent         No   \n2339                        White or of European descent         No   \n2689                                                 NaN         No   \n2788                        White or of European descent         No   \n3165                        White or of European descent        Yes   \n3213                        White or of European descent         No   \n3690   Hispanic or Latino/Latina;White or of European...        Yes   \n3996                        White or of European descent         No   \n4944                        White or of European descent         No   \n5654                                         South Asian        Yes   \n5671                           Hispanic or Latino/Latina        Yes   \n5824                        White or of European descent         No   \n6321                                          East Asian         No   \n7361                        White or of European descent        Yes   \n7557                        White or of European descent         No   \n7714                        White or of European descent         No   \n7779                        White or of European descent        Yes   \n8010                        White or of European descent         No   \n8188                                          East Asian        Yes   \n8855                        White or of European descent         No   \n9066                        White or of European descent         No   \n9070                        White or of European descent         No   \n10219                                        Multiracial        Yes   \n10709                       White or of European descent        Yes   \n10951                       White or of European descent        Yes   \n11253                                        South Asian         No   \n11331                       White or of European descent        Yes   \n11521                       White or of European descent        Yes   \n\n                SurveyLength                  SurveyEase  \n130                 Too long                         NaN  \n242    Appropriate in length                        Easy  \n866                 Too long                        Easy  \n1455                Too long  Neither easy nor difficult  \n1753   Appropriate in length                        Easy  \n2339                Too long                        Easy  \n2689                Too long  Neither easy nor difficult  \n2788   Appropriate in length                        Easy  \n3165   Appropriate in length  Neither easy nor difficult  \n3213   Appropriate in length                        Easy  \n3690   Appropriate in length                        Easy  \n3996   Appropriate in length  Neither easy nor difficult  \n4944   Appropriate in length                        Easy  \n5654   Appropriate in length                        Easy  \n5671   Appropriate in length                        Easy  \n5824   Appropriate in length                        Easy  \n6321               Too short  Neither easy nor difficult  \n7361   Appropriate in length  Neither easy nor difficult  \n7557   Appropriate in length                        Easy  \n7714   Appropriate in length                        Easy  \n7779   Appropriate in length  Neither easy nor difficult  \n8010   Appropriate in length  Neither easy nor difficult  \n8188                Too long                        Easy  \n8855   Appropriate in length                        Easy  \n9066   Appropriate in length  Neither easy nor difficult  \n9070   Appropriate in length                        Easy  \n10219  Appropriate in length                        Easy  \n10709  Appropriate in length                        Easy  \n10951  Appropriate in length  Neither easy nor difficult  \n11253               Too long                   Difficult  \n11331  Appropriate in length  Neither easy nor difficult  \n11521               Too long  Neither easy nor difficult  \n\n[32 rows x 85 columns]\n",
          "output_type": "stream"
        }
      ],
      "execution_count": 13
    },
    {
      "cell_type": "markdown",
      "source": "## Imputing missing values\n",
      "metadata": {}
    },
    {
      "cell_type": "markdown",
      "source": "Find the  value counts for the column WorkLoc.\n",
      "metadata": {}
    },
    {
      "cell_type": "code",
      "source": "value_counts = df['WorkLoc'].value_counts()\nprint(\"Value counts:\")\nprint(value_counts)",
      "metadata": {
        "trusted": true
      },
      "outputs": [
        {
          "name": "stdout",
          "text": "Value counts:\nWorkLoc\nOffice                                            6905\nHome                                              3638\nOther place, such as a coworking space or cafe     977\nName: count, dtype: int64\n",
          "output_type": "stream"
        }
      ],
      "execution_count": 15
    },
    {
      "cell_type": "markdown",
      "source": "Identify the value that is most frequent (majority) in the WorkLoc column.\n",
      "metadata": {}
    },
    {
      "cell_type": "raw",
      "source": "Office",
      "metadata": {}
    },
    {
      "cell_type": "markdown",
      "source": "Impute (replace) all the empty rows in the column WorkLoc with the value that you have identified as majority.\n",
      "metadata": {}
    },
    {
      "cell_type": "code",
      "source": "most_frequent_value =  'Office'",
      "metadata": {
        "trusted": true
      },
      "outputs": [],
      "execution_count": 19
    },
    {
      "cell_type": "code",
      "source": "df['WorkLoc'] = df['WorkLoc'].fillna(most_frequent_value)",
      "metadata": {
        "trusted": true
      },
      "outputs": [],
      "execution_count": 21
    },
    {
      "cell_type": "markdown",
      "source": "After imputation there should ideally not be any empty rows in the WorkLoc column.\n",
      "metadata": {}
    },
    {
      "cell_type": "markdown",
      "source": "Verify if imputing was successful.\n",
      "metadata": {}
    },
    {
      "cell_type": "code",
      "source": "missing_names = df['WorkLoc'].isnull().sum()\nif missing_names == 0:\n    print(\"All missing names replaced successfully!\")\nelse:\n    print(f\"There are still {missing_names} missing values in 'Name'.\")",
      "metadata": {
        "trusted": true
      },
      "outputs": [
        {
          "name": "stdout",
          "text": "All missing names replaced successfully!\n",
          "output_type": "stream"
        }
      ],
      "execution_count": 23
    },
    {
      "cell_type": "markdown",
      "source": "## Normalizing data\n",
      "metadata": {}
    },
    {
      "cell_type": "markdown",
      "source": "There are two columns in the dataset that talk about compensation.\n\nOne is \"CompFreq\". This column shows how often a developer is paid (Yearly, Monthly, Weekly).\n\nThe other is \"CompTotal\". This column talks about how much the developer is paid per Year, Month, or Week depending upon his/her \"CompFreq\". \n\nThis makes it difficult to compare the total compensation of the developers.\n\nIn this section you will create a new column called 'NormalizedAnnualCompensation' which contains the 'Annual Compensation' irrespective of the 'CompFreq'.\n\nOnce this column is ready, it makes comparison of salaries easy.\n",
      "metadata": {}
    },
    {
      "cell_type": "markdown",
      "source": "<hr>\n",
      "metadata": {}
    },
    {
      "cell_type": "markdown",
      "source": "List out the various categories in the column 'CompFreq'\n",
      "metadata": {}
    },
    {
      "cell_type": "code",
      "source": "categories_CompFreq = df['CompFreq'].unique()\nprint (f\"Categories in 'CompFreq': {categories_CompFreq}\")\n",
      "metadata": {
        "trusted": true
      },
      "outputs": [
        {
          "name": "stdout",
          "text": "Categories in 'CompFreq': ['Yearly' 'Monthly' 'Weekly' nan]\n",
          "output_type": "stream"
        }
      ],
      "execution_count": 6
    },
    {
      "cell_type": "markdown",
      "source": "Create a new column named 'NormalizedAnnualCompensation'. Use the hint given below if needed.\n",
      "metadata": {}
    },
    {
      "cell_type": "markdown",
      "source": "Double click to see the **Hint**.\n\n<!--\n\nUse the below logic to arrive at the values for the column NormalizedAnnualCompensation.\n\nIf the CompFreq is Yearly then use the exising value in CompTotal\nIf the CompFreq is Monthly then multiply the value in CompTotal with 12 (months in an year)\nIf the CompFreq is Weekly then multiply the value in CompTotal with 52 (weeks in an year)\n\n-->\n",
      "metadata": {}
    },
    {
      "cell_type": "code",
      "source": "df['NormalizedAnnualCompensation'] = df.apply(\n    lambda row: row['CompTotal'] if row['CompFreq'] == 'Yearly' else\n                row['CompTotal'] * 12 if row['CompFreq'] == 'Monthly' else\n                row['CompTotal'] * 52 if row['CompFreq'] == 'Weekly' else None,\n    axis=1\n)",
      "metadata": {
        "trusted": true
      },
      "outputs": [],
      "execution_count": 7
    },
    {
      "cell_type": "code",
      "source": "print(df[['CompFreq', 'CompTotal', 'NormalizedAnnualCompensation']])",
      "metadata": {
        "trusted": true
      },
      "outputs": [
        {
          "name": "stdout",
          "text": "      CompFreq  CompTotal  NormalizedAnnualCompensation\n0       Yearly    61000.0                       61000.0\n1       Yearly   138000.0                      138000.0\n2       Yearly    90000.0                       90000.0\n3      Monthly    29000.0                      348000.0\n4       Yearly    90000.0                       90000.0\n...        ...        ...                           ...\n11547   Yearly   130000.0                      130000.0\n11548   Yearly    74400.0                       74400.0\n11549   Yearly   105000.0                      105000.0\n11550   Yearly    80000.0                       80000.0\n11551      NaN        NaN                           NaN\n\n[11552 rows x 3 columns]\n",
          "output_type": "stream"
        }
      ],
      "execution_count": 8
    },
    {
      "cell_type": "markdown",
      "source": "## Authors\n",
      "metadata": {}
    },
    {
      "cell_type": "markdown",
      "source": "Ramesh Sannareddy\n",
      "metadata": {}
    },
    {
      "cell_type": "markdown",
      "source": "### Other Contributors\n",
      "metadata": {}
    },
    {
      "cell_type": "markdown",
      "source": "Rav Ahuja\n",
      "metadata": {}
    },
    {
      "cell_type": "markdown",
      "source": " ## Change Log\n",
      "metadata": {}
    },
    {
      "cell_type": "markdown",
      "source": "|Date (YYYY-MM-DD)|Version|Changed By|Change Description|\n|-|-|-|-|\n|2024-09-24|1.1|Madhusudhan Moole|Updated lab|\n|2024-09-23|1.0|Raghul Ramesh|Created lab|\n",
      "metadata": {}
    },
    {
      "cell_type": "markdown",
      "source": "<!--| Date (YYYY-MM-DD) | Version | Changed By        | Change Description                 |\n| ----------------- | ------- | ----------------- | ---------------------------------- |\n| 2020-10-17        | 0.1     | Ramesh Sannareddy | Created initial version of the lab |--!>\n",
      "metadata": {}
    },
    {
      "cell_type": "markdown",
      "source": "## <h3 align=\"center\"> © IBM Corporation. All rights reserved. <h3/>\n",
      "metadata": {}
    },
    {
      "cell_type": "code",
      "source": "",
      "metadata": {},
      "outputs": [],
      "execution_count": null
    }
  ]
}